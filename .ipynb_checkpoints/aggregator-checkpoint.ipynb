{
 "cells": [
  {
   "cell_type": "code",
   "execution_count": 1,
   "metadata": {},
   "outputs": [],
   "source": [
    "import pandas as pd"
   ]
  },
  {
   "cell_type": "code",
   "execution_count": 13,
   "metadata": {},
   "outputs": [
    {
     "data": {
      "text/plain": [
       "0     1646916987.9236016;load_csv;0.1512045860290527...\n",
       "1     1646916988.075098;drop_column;0.05653047561645...\n",
       "2     1646916988.256668;concat_dataframes;0.01009869...\n",
       "3     1646916988.2792363;remove_duplicates;0.0715143...\n",
       "4     1646916988.3515615;merge;0.042257070541381836;...\n",
       "5     1646916988.3944545;subset;0.001726627349853515...\n",
       "6     1646916988.3966825;sample;0.001360177993774414...\n",
       "7     1646916988.3983006;sample;0.002954244613647461...\n",
       "8     1646916988.4016862;sample;0.004366397857666016...\n",
       "9     1646916988.4076552;sum;0.0009198188781738281;8...\n",
       "10    1646916988.4088182;median;0.001096725463867187...\n",
       "11    1646916988.4101605;min;0.0003046989440917969;8...\n",
       "12    1646916988.4106581;max;0.0002658367156982422;0...\n",
       "13    1646916988.4111032;unique;0.000432252883911132...\n",
       "Name: timestamp;tag;duration;package_0;dram_0;core_0;uncore_0, dtype: object"
      ]
     },
     "execution_count": 13,
     "metadata": {},
     "output_type": "execute_result"
    }
   ],
   "source": [
    "# pd.read_csv('./pandas/result_1.csv').replace(';', ',', regex=True)\n",
    "pd.read_csv('./pandas/result_1.csv').iloc[:, 0].replace(' ','_',regex=True)"
   ]
  },
  {
   "cell_type": "code",
   "execution_count": 19,
   "metadata": {},
   "outputs": [],
   "source": [
    "df = pd.read_csv('./pandas/trial_1.csv')\n",
    "df = pd.read_csv('./pandas/trial_2.csv')"
   ]
  },
  {
   "cell_type": "code",
   "execution_count": 20,
   "metadata": {},
   "outputs": [
    {
     "data": {
      "text/html": [
       "<div>\n",
       "<style scoped>\n",
       "    .dataframe tbody tr th:only-of-type {\n",
       "        vertical-align: middle;\n",
       "    }\n",
       "\n",
       "    .dataframe tbody tr th {\n",
       "        vertical-align: top;\n",
       "    }\n",
       "\n",
       "    .dataframe thead th {\n",
       "        text-align: right;\n",
       "    }\n",
       "</style>\n",
       "<table border=\"1\" class=\"dataframe\">\n",
       "  <thead>\n",
       "    <tr style=\"text-align: right;\">\n",
       "      <th></th>\n",
       "      <th>timestamp</th>\n",
       "      <th>tag</th>\n",
       "      <th>duration</th>\n",
       "      <th>package_0</th>\n",
       "      <th>dram_0</th>\n",
       "      <th>core_0</th>\n",
       "      <th>uncore_0</th>\n",
       "    </tr>\n",
       "  </thead>\n",
       "  <tbody>\n",
       "    <tr>\n",
       "      <th>0</th>\n",
       "      <td>1.646917e+09</td>\n",
       "      <td>load_csv</td>\n",
       "      <td>0.151205</td>\n",
       "      <td>819822</td>\n",
       "      <td>100708</td>\n",
       "      <td>297179</td>\n",
       "      <td>0</td>\n",
       "    </tr>\n",
       "    <tr>\n",
       "      <th>1</th>\n",
       "      <td>1.646917e+09</td>\n",
       "      <td>drop_column</td>\n",
       "      <td>0.056530</td>\n",
       "      <td>185424</td>\n",
       "      <td>25024</td>\n",
       "      <td>13428</td>\n",
       "      <td>244</td>\n",
       "    </tr>\n",
       "    <tr>\n",
       "      <th>2</th>\n",
       "      <td>1.646917e+09</td>\n",
       "      <td>concat_dataframes</td>\n",
       "      <td>0.010099</td>\n",
       "      <td>86853</td>\n",
       "      <td>13306</td>\n",
       "      <td>50781</td>\n",
       "      <td>0</td>\n",
       "    </tr>\n",
       "    <tr>\n",
       "      <th>3</th>\n",
       "      <td>1.646917e+09</td>\n",
       "      <td>remove_duplicates</td>\n",
       "      <td>0.071514</td>\n",
       "      <td>494140</td>\n",
       "      <td>53771</td>\n",
       "      <td>230163</td>\n",
       "      <td>0</td>\n",
       "    </tr>\n",
       "    <tr>\n",
       "      <th>4</th>\n",
       "      <td>1.646917e+09</td>\n",
       "      <td>merge</td>\n",
       "      <td>0.042257</td>\n",
       "      <td>389709</td>\n",
       "      <td>35278</td>\n",
       "      <td>218200</td>\n",
       "      <td>0</td>\n",
       "    </tr>\n",
       "  </tbody>\n",
       "</table>\n",
       "</div>"
      ],
      "text/plain": [
       "      timestamp                tag  duration  package_0  dram_0  core_0  \\\n",
       "0  1.646917e+09           load_csv  0.151205     819822  100708  297179   \n",
       "1  1.646917e+09        drop_column  0.056530     185424   25024   13428   \n",
       "2  1.646917e+09  concat_dataframes  0.010099      86853   13306   50781   \n",
       "3  1.646917e+09  remove_duplicates  0.071514     494140   53771  230163   \n",
       "4  1.646917e+09              merge  0.042257     389709   35278  218200   \n",
       "\n",
       "   uncore_0  \n",
       "0         0  \n",
       "1       244  \n",
       "2         0  \n",
       "3         0  \n",
       "4         0  "
      ]
     },
     "execution_count": 20,
     "metadata": {},
     "output_type": "execute_result"
    }
   ],
   "source": [
    "df.head()"
   ]
  },
  {
   "cell_type": "code",
   "execution_count": null,
   "metadata": {},
   "outputs": [],
   "source": []
  }
 ],
 "metadata": {
  "kernelspec": {
   "display_name": "Python 3",
   "language": "python",
   "name": "python3"
  },
  "language_info": {
   "codemirror_mode": {
    "name": "ipython",
    "version": 3
   },
   "file_extension": ".py",
   "mimetype": "text/x-python",
   "name": "python",
   "nbconvert_exporter": "python",
   "pygments_lexer": "ipython3",
   "version": "3.8.10"
  }
 },
 "nbformat": 4,
 "nbformat_minor": 4
}
